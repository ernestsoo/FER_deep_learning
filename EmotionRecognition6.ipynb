{
  "nbformat": 4,
  "nbformat_minor": 0,
  "metadata": {
    "colab": {
      "name": "EmotionRecognition6.ipynb",
      "provenance": []
    },
    "kernelspec": {
      "name": "python3",
      "display_name": "Python 3"
    },
    "accelerator": "GPU"
  },
  "cells": [
    {
      "cell_type": "code",
      "metadata": {
        "id": "R3evtY-ahHr3",
        "colab_type": "code",
        "colab": {
          "base_uri": "https://localhost:8080/",
          "height": 122
        },
        "outputId": "07aeb7cc-0bad-4acb-8a99-460b803c50a4"
      },
      "source": [
        "from google.colab import drive\n",
        "drive.mount('drive')"
      ],
      "execution_count": 1,
      "outputs": [
        {
          "output_type": "stream",
          "text": [
            "Go to this URL in a browser: https://accounts.google.com/o/oauth2/auth?client_id=947318989803-6bn6qk8qdgf4n4g3pfee6491hc0brc4i.apps.googleusercontent.com&redirect_uri=urn%3aietf%3awg%3aoauth%3a2.0%3aoob&scope=email%20https%3a%2f%2fwww.googleapis.com%2fauth%2fdocs.test%20https%3a%2f%2fwww.googleapis.com%2fauth%2fdrive%20https%3a%2f%2fwww.googleapis.com%2fauth%2fdrive.photos.readonly%20https%3a%2f%2fwww.googleapis.com%2fauth%2fpeopleapi.readonly&response_type=code\n",
            "\n",
            "Enter your authorization code:\n",
            "··········\n",
            "Mounted at drive\n"
          ],
          "name": "stdout"
        }
      ]
    },
    {
      "cell_type": "code",
      "metadata": {
        "id": "6KErt534ixtM",
        "colab_type": "code",
        "colab": {}
      },
      "source": [
        "import numpy as np # linear algebra\n",
        "import pandas as pd"
      ],
      "execution_count": 2,
      "outputs": []
    },
    {
      "cell_type": "code",
      "metadata": {
        "id": "eVEZdCB6i3P_",
        "colab_type": "code",
        "colab": {}
      },
      "source": [
        "import pandas as pd\n",
        "import numpy as np\n",
        "from matplotlib import pyplot\n",
        "import scipy.misc \n",
        "from math import sqrt \n",
        "import itertools\n",
        "from IPython.display import display\n",
        "%matplotlib inline"
      ],
      "execution_count": 3,
      "outputs": []
    },
    {
      "cell_type": "code",
      "metadata": {
        "id": "HSlNef9wi4--",
        "colab_type": "code",
        "colab": {
          "base_uri": "https://localhost:8080/",
          "height": 204
        },
        "outputId": "2dd42a82-5158-47bd-c0af-e5697c774215"
      },
      "source": [
        "#Loading the dataset\n",
        "data= pd.read_csv('drive/My Drive/fer2013.csv')\n",
        "data.head()"
      ],
      "execution_count": 4,
      "outputs": [
        {
          "output_type": "execute_result",
          "data": {
            "text/html": [
              "<div>\n",
              "<style scoped>\n",
              "    .dataframe tbody tr th:only-of-type {\n",
              "        vertical-align: middle;\n",
              "    }\n",
              "\n",
              "    .dataframe tbody tr th {\n",
              "        vertical-align: top;\n",
              "    }\n",
              "\n",
              "    .dataframe thead th {\n",
              "        text-align: right;\n",
              "    }\n",
              "</style>\n",
              "<table border=\"1\" class=\"dataframe\">\n",
              "  <thead>\n",
              "    <tr style=\"text-align: right;\">\n",
              "      <th></th>\n",
              "      <th>emotion</th>\n",
              "      <th>pixels</th>\n",
              "      <th>Usage</th>\n",
              "    </tr>\n",
              "  </thead>\n",
              "  <tbody>\n",
              "    <tr>\n",
              "      <th>0</th>\n",
              "      <td>0</td>\n",
              "      <td>70 80 82 72 58 58 60 63 54 58 60 48 89 115 121...</td>\n",
              "      <td>Training</td>\n",
              "    </tr>\n",
              "    <tr>\n",
              "      <th>1</th>\n",
              "      <td>0</td>\n",
              "      <td>151 150 147 155 148 133 111 140 170 174 182 15...</td>\n",
              "      <td>Training</td>\n",
              "    </tr>\n",
              "    <tr>\n",
              "      <th>2</th>\n",
              "      <td>2</td>\n",
              "      <td>231 212 156 164 174 138 161 173 182 200 106 38...</td>\n",
              "      <td>Training</td>\n",
              "    </tr>\n",
              "    <tr>\n",
              "      <th>3</th>\n",
              "      <td>4</td>\n",
              "      <td>24 32 36 30 32 23 19 20 30 41 21 22 32 34 21 1...</td>\n",
              "      <td>Training</td>\n",
              "    </tr>\n",
              "    <tr>\n",
              "      <th>4</th>\n",
              "      <td>6</td>\n",
              "      <td>4 0 0 0 0 0 0 0 0 0 0 0 3 15 23 28 48 50 58 84...</td>\n",
              "      <td>Training</td>\n",
              "    </tr>\n",
              "  </tbody>\n",
              "</table>\n",
              "</div>"
            ],
            "text/plain": [
              "   emotion                                             pixels     Usage\n",
              "0        0  70 80 82 72 58 58 60 63 54 58 60 48 89 115 121...  Training\n",
              "1        0  151 150 147 155 148 133 111 140 170 174 182 15...  Training\n",
              "2        2  231 212 156 164 174 138 161 173 182 200 106 38...  Training\n",
              "3        4  24 32 36 30 32 23 19 20 30 41 21 22 32 34 21 1...  Training\n",
              "4        6  4 0 0 0 0 0 0 0 0 0 0 0 3 15 23 28 48 50 58 84...  Training"
            ]
          },
          "metadata": {
            "tags": []
          },
          "execution_count": 4
        }
      ]
    },
    {
      "cell_type": "code",
      "metadata": {
        "id": "6zcrC_r0jDCo",
        "colab_type": "code",
        "colab": {}
      },
      "source": [
        "#Number of training samples of each emotions\n",
        "from pylab import rcParams\n",
        "rcParams['figure.figsize'] = 15, 10"
      ],
      "execution_count": 5,
      "outputs": []
    },
    {
      "cell_type": "code",
      "metadata": {
        "id": "1CEg-PHQjGb7",
        "colab_type": "code",
        "colab": {
          "base_uri": "https://localhost:8080/",
          "height": 85
        },
        "outputId": "6946378c-bd8a-431a-beab-6a25fc233004"
      },
      "source": [
        "#Assigning Names to Emotions in labels\n",
        "\n",
        "num_classes = 7\n",
        "width = 48\n",
        "height = 48\n",
        "emotion_labels = [\"Angry\", \"Disgust\", \"Fear\", \"Happy\", \"Sad\", \"Surprise\", \"Neutral\"]\n",
        "classes=np.array((\"Angry\", \"Disgust\", \"Fear\", \"Happy\", \"Sad\", \"Surprise\", \"Neutral\"))\n",
        "data.Usage.value_counts() "
      ],
      "execution_count": 6,
      "outputs": [
        {
          "output_type": "execute_result",
          "data": {
            "text/plain": [
              "Training       28709\n",
              "PublicTest      3589\n",
              "PrivateTest     3589\n",
              "Name: Usage, dtype: int64"
            ]
          },
          "metadata": {
            "tags": []
          },
          "execution_count": 6
        }
      ]
    },
    {
      "cell_type": "code",
      "metadata": {
        "id": "ng3vS6lUjH_v",
        "colab_type": "code",
        "colab": {}
      },
      "source": [
        "train_set = data[(data.Usage == 'Training')] \n",
        "val_set = data[(data.Usage == 'PublicTest')]\n",
        "test_set = data[(data.Usage == 'PrivateTest')] \n",
        "X_train = np.array(list(map(str.split, train_set.pixels)), np.float32) \n",
        "X_val = np.array(list(map(str.split, val_set.pixels)), np.float32) \n",
        "X_test = np.array(list(map(str.split, test_set.pixels)), np.float32) \n",
        "X_train = X_train.reshape(X_train.shape[0], 48, 48, 1) \n",
        "X_val = X_val.reshape(X_val.shape[0], 48, 48, 1)\n",
        "X_test = X_test.reshape(X_test.shape[0], 48, 48, 1)"
      ],
      "execution_count": 8,
      "outputs": []
    },
    {
      "cell_type": "code",
      "metadata": {
        "id": "svRiX9LAjYhK",
        "colab_type": "code",
        "colab": {}
      },
      "source": [
        "num_train = X_train.shape[0]\n",
        "num_val = X_val.shape[0]\n",
        "num_test = X_test.shape[0]"
      ],
      "execution_count": 9,
      "outputs": []
    },
    {
      "cell_type": "code",
      "metadata": {
        "id": "635l3LI_jbi-",
        "colab_type": "code",
        "colab": {}
      },
      "source": [
        "from keras.utils import np_utils\n",
        "from keras.preprocessing.image import ImageDataGenerator "
      ],
      "execution_count": 10,
      "outputs": []
    },
    {
      "cell_type": "code",
      "metadata": {
        "id": "9CZ3VBMXjljI",
        "colab_type": "code",
        "colab": {}
      },
      "source": [
        "y_train = train_set.emotion \n",
        "y_train = np_utils.to_categorical(y_train, num_classes) \n",
        "y_val = val_set.emotion \n",
        "y_val = np_utils.to_categorical(y_val, num_classes) \n",
        "y_test = test_set.emotion \n",
        "y_test = np_utils.to_categorical(y_test, num_classes)"
      ],
      "execution_count": 11,
      "outputs": []
    },
    {
      "cell_type": "code",
      "metadata": {
        "id": "voeWFLSFjrEn",
        "colab_type": "code",
        "colab": {}
      },
      "source": [
        "datagen = ImageDataGenerator( \n",
        "    rescale=1./255,\n",
        "    rotation_range = 10,\n",
        "    horizontal_flip = True,\n",
        "    width_shift_range=0.1,\n",
        "    height_shift_range=0.1,\n",
        "    fill_mode = 'nearest')\n",
        "\n",
        "testgen = ImageDataGenerator( \n",
        "    rescale=1./255\n",
        "    )\n",
        "datagen.fit(X_train)\n",
        "batch_size = 64"
      ],
      "execution_count": 12,
      "outputs": []
    },
    {
      "cell_type": "code",
      "metadata": {
        "id": "VWKQ_cwjjvjG",
        "colab_type": "code",
        "colab": {
          "base_uri": "https://localhost:8080/",
          "height": 575
        },
        "outputId": "94599467-2d2f-4e25-e629-7f011ca02f4f"
      },
      "source": [
        "for X_batch, y_batch in datagen.flow(X_train, y_train, batch_size=9):\n",
        "    for i in range(0, 9): \n",
        "        pyplot.axis('off') \n",
        "        pyplot.subplot(330 + 1 + i) \n",
        "        pyplot.imshow(X_batch[i].reshape(48, 48), cmap=pyplot.get_cmap('gray'))\n",
        "    pyplot.axis('off') \n",
        "    pyplot.show() \n",
        "    break"
      ],
      "execution_count": 13,
      "outputs": [
        {
          "output_type": "display_data",
          "data": {
            "image/png": "[encoded data removed]",
            "text/plain": [
              "<Figure size 1080x720 with 9 Axes>"
            ]
          },
          "metadata": {
            "tags": [],
            "needs_background": "light"
          }
        }
      ]
    },
    {
      "cell_type": "code",
      "metadata": {
        "id": "bGURbHzUjw0c",
        "colab_type": "code",
        "colab": {}
      },
      "source": [
        "train_flow = datagen.flow(X_train, y_train, batch_size=batch_size) \n",
        "val_flow = testgen.flow(X_val, y_val, batch_size=batch_size) \n",
        "test_flow = testgen.flow(X_test, y_test, batch_size=batch_size)"
      ],
      "execution_count": 14,
      "outputs": []
    },
    {
      "cell_type": "code",
      "metadata": {
        "id": "LzhcDsRVj2s3",
        "colab_type": "code",
        "colab": {}
      },
      "source": [
        "from keras.utils import plot_model\n",
        "from keras.models import Model\n",
        "from keras.layers import Input, Dense, Flatten, Dropout, BatchNormalization\n",
        "from keras.layers.convolutional import Conv2D\n",
        "from keras.layers.pooling import MaxPooling2D\n",
        "from keras.layers.merge import concatenate\n",
        "from keras.optimizers import Adam, SGD\n",
        "from keras.regularizers import l1, l2\n",
        "from matplotlib import pyplot as plt\n",
        "from sklearn.metrics import confusion_matrix"
      ],
      "execution_count": 15,
      "outputs": []
    },
    {
      "cell_type": "code",
      "metadata": {
        "id": "Fnft4puBj6BT",
        "colab_type": "code",
        "colab": {}
      },
      "source": [
        "def FER_Model(input_shape=(48,48,1)):\n",
        "    # first input model\n",
        "    visible = Input(shape=input_shape, name='input')\n",
        "    num_classes = 7\n",
        "    #the 1-st block\n",
        "    conv1_1 = Conv2D(64, kernel_size=3, activation='relu', padding='same', name = 'conv1_1')(visible)\n",
        "    conv1_1 = BatchNormalization()(conv1_1)\n",
        "    conv1_2 = Conv2D(64, kernel_size=3, activation='relu', padding='same', name = 'conv1_2')(conv1_1)\n",
        "    conv1_2 = BatchNormalization()(conv1_2)\n",
        "    pool1_1 = MaxPooling2D(pool_size=(2,2), name = 'pool1_1')(conv1_2)\n",
        "    drop1_1 = Dropout(0.3, name = 'drop1_1')(pool1_1)\n",
        "\n",
        "    #the 2-nd block\n",
        "    conv2_1 = Conv2D(128, kernel_size=3, activation='relu', padding='same', name = 'conv2_1')(drop1_1)\n",
        "    conv2_1 = BatchNormalization()(conv2_1)\n",
        "    conv2_2 = Conv2D(128, kernel_size=3, activation='relu', padding='same', name = 'conv2_2')(conv2_1)\n",
        "    conv2_2 = BatchNormalization()(conv2_2)\n",
        "    conv2_3 = Conv2D(128, kernel_size=3, activation='relu', padding='same', name = 'conv2_3')(conv2_2)\n",
        "    conv2_2 = BatchNormalization()(conv2_3)\n",
        "    pool2_1 = MaxPooling2D(pool_size=(2,2), name = 'pool2_1')(conv2_3)\n",
        "    drop2_1 = Dropout(0.3, name = 'drop2_1')(pool2_1)\n",
        "\n",
        "     #the 3-rd block\n",
        "    conv3_1 = Conv2D(256, kernel_size=3, activation='relu', padding='same', name = 'conv3_1')(drop2_1)\n",
        "    conv3_1 = BatchNormalization()(conv3_1)\n",
        "    conv3_2 = Conv2D(256, kernel_size=3, activation='relu', padding='same', name = 'conv3_2')(conv3_1)\n",
        "    conv3_2 = BatchNormalization()(conv3_2)\n",
        "    conv3_3 = Conv2D(256, kernel_size=3, activation='relu', padding='same', name = 'conv3_3')(conv3_2)\n",
        "    conv3_3 = BatchNormalization()(conv3_3)\n",
        "    conv3_4 = Conv2D(256, kernel_size=3, activation='relu', padding='same', name = 'conv3_4')(conv3_3)\n",
        "    conv3_4 = BatchNormalization()(conv3_4)\n",
        "    pool3_1 = MaxPooling2D(pool_size=(2,2), name = 'pool3_1')(conv3_4)\n",
        "    drop3_1 = Dropout(0.3, name = 'drop3_1')(pool3_1)\n",
        "\n",
        "    #the 4-th block\n",
        "    conv4_1 = Conv2D(256, kernel_size=3, activation='relu', padding='same', name = 'conv4_1')(drop3_1)\n",
        "    conv4_1 = BatchNormalization()(conv4_1)\n",
        "    conv4_2 = Conv2D(256, kernel_size=3, activation='relu', padding='same', name = 'conv4_2')(conv4_1)\n",
        "    conv4_2 = BatchNormalization()(conv4_2)\n",
        "    conv4_3 = Conv2D(256, kernel_size=3, activation='relu', padding='same', name = 'conv4_3')(conv4_2)\n",
        "    conv4_3 = BatchNormalization()(conv4_3)\n",
        "    conv4_4 = Conv2D(256, kernel_size=3, activation='relu', padding='same', name = 'conv4_4')(conv4_3)\n",
        "    conv4_4 = BatchNormalization()(conv4_4)\n",
        "    pool4_1 = MaxPooling2D(pool_size=(2,2), name = 'pool4_1')(conv4_4)\n",
        "    drop4_1 = Dropout(0.3, name = 'drop4_1')(pool4_1)\n",
        "    \n",
        "    #the 5-th block\n",
        "    conv5_1 = Conv2D(512, kernel_size=3, activation='relu', padding='same', name = 'conv5_1')(drop4_1)\n",
        "    conv5_1 = BatchNormalization()(conv5_1)\n",
        "    conv5_2 = Conv2D(512, kernel_size=3, activation='relu', padding='same', name = 'conv5_2')(conv5_1)\n",
        "    conv5_2 = BatchNormalization()(conv5_2)\n",
        "    conv5_3 = Conv2D(512, kernel_size=3, activation='relu', padding='same', name = 'conv5_3')(conv5_2)\n",
        "    conv5_3 = BatchNormalization()(conv5_3)\n",
        "    conv5_4 = Conv2D(512, kernel_size=3, activation='relu', padding='same', name = 'conv5_4')(conv5_3)\n",
        "    conv5_3 = BatchNormalization()(conv5_3)\n",
        "    pool5_1 = MaxPooling2D(pool_size=(2,2), name = 'pool5_1')(conv5_4)\n",
        "    drop5_1 = Dropout(0.3, name = 'drop5_1')(pool5_1)\n",
        "\n",
        "    #Flatten and output\n",
        "    flatten = Flatten(name = 'flatten')(drop5_1)\n",
        "    ouput = Dense(num_classes, activation='softmax', name = 'output')(flatten)\n",
        "\n",
        "    # create model \n",
        "    model = Model(inputs =visible, outputs = ouput)\n",
        "    # summary layers\n",
        "    print(model.summary())\n",
        "    \n",
        "    return model"
      ],
      "execution_count": 16,
      "outputs": []
    },
    {
      "cell_type": "code",
      "metadata": {
        "id": "4NeugSrpj8ZN",
        "colab_type": "code",
        "colab": {
          "base_uri": "https://localhost:8080/",
          "height": 1000
        },
        "outputId": "58f33621-68c4-4e76-c45e-2c032ea57179"
      },
      "source": [
        "model = FER_Model()\n",
        "opt = Adam(lr=0.0001, decay=1e-6)\n",
        "model.compile(loss='binary_crossentropy', optimizer=opt, metrics=['accuracy'])"
      ],
      "execution_count": 17,
      "outputs": [
        {
          "output_type": "stream",
          "text": [
            "Model: \"functional_1\"\n",
            "_________________________________________________________________\n",
            "Layer (type)                 Output Shape              Param #   \n",
            "=================================================================\n",
            "input (InputLayer)           [(None, 48, 48, 1)]       0         \n",
            "_________________________________________________________________\n",
            "conv1_1 (Conv2D)             (None, 48, 48, 64)        640       \n",
            "_________________________________________________________________\n",
            "batch_normalization (BatchNo (None, 48, 48, 64)        256       \n",
            "_________________________________________________________________\n",
            "conv1_2 (Conv2D)             (None, 48, 48, 64)        36928     \n",
            "_________________________________________________________________\n",
            "batch_normalization_1 (Batch (None, 48, 48, 64)        256       \n",
            "_________________________________________________________________\n",
            "pool1_1 (MaxPooling2D)       (None, 24, 24, 64)        0         \n",
            "_________________________________________________________________\n",
            "drop1_1 (Dropout)            (None, 24, 24, 64)        0         \n",
            "_________________________________________________________________\n",
            "conv2_1 (Conv2D)             (None, 24, 24, 128)       73856     \n",
            "_________________________________________________________________\n",
            "batch_normalization_2 (Batch (None, 24, 24, 128)       512       \n",
            "_________________________________________________________________\n",
            "conv2_2 (Conv2D)             (None, 24, 24, 128)       147584    \n",
            "_________________________________________________________________\n",
            "batch_normalization_3 (Batch (None, 24, 24, 128)       512       \n",
            "_________________________________________________________________\n",
            "conv2_3 (Conv2D)             (None, 24, 24, 128)       147584    \n",
            "_________________________________________________________________\n",
            "pool2_1 (MaxPooling2D)       (None, 12, 12, 128)       0         \n",
            "_________________________________________________________________\n",
            "drop2_1 (Dropout)            (None, 12, 12, 128)       0         \n",
            "_________________________________________________________________\n",
            "conv3_1 (Conv2D)             (None, 12, 12, 256)       295168    \n",
            "_________________________________________________________________\n",
            "batch_normalization_5 (Batch (None, 12, 12, 256)       1024      \n",
            "_________________________________________________________________\n",
            "conv3_2 (Conv2D)             (None, 12, 12, 256)       590080    \n",
            "_________________________________________________________________\n",
            "batch_normalization_6 (Batch (None, 12, 12, 256)       1024      \n",
            "_________________________________________________________________\n",
            "conv3_3 (Conv2D)             (None, 12, 12, 256)       590080    \n",
            "_________________________________________________________________\n",
            "batch_normalization_7 (Batch (None, 12, 12, 256)       1024      \n",
            "_________________________________________________________________\n",
            "conv3_4 (Conv2D)             (None, 12, 12, 256)       590080    \n",
            "_________________________________________________________________\n",
            "batch_normalization_8 (Batch (None, 12, 12, 256)       1024      \n",
            "_________________________________________________________________\n",
            "pool3_1 (MaxPooling2D)       (None, 6, 6, 256)         0         \n",
            "_________________________________________________________________\n",
            "drop3_1 (Dropout)            (None, 6, 6, 256)         0         \n",
            "_________________________________________________________________\n",
            "conv4_1 (Conv2D)             (None, 6, 6, 256)         590080    \n",
            "_________________________________________________________________\n",
            "batch_normalization_9 (Batch (None, 6, 6, 256)         1024      \n",
            "_________________________________________________________________\n",
            "conv4_2 (Conv2D)             (None, 6, 6, 256)         590080    \n",
            "_________________________________________________________________\n",
            "batch_normalization_10 (Batc (None, 6, 6, 256)         1024      \n",
            "_________________________________________________________________\n",
            "conv4_3 (Conv2D)             (None, 6, 6, 256)         590080    \n",
            "_________________________________________________________________\n",
            "batch_normalization_11 (Batc (None, 6, 6, 256)         1024      \n",
            "_________________________________________________________________\n",
            "conv4_4 (Conv2D)             (None, 6, 6, 256)         590080    \n",
            "_________________________________________________________________\n",
            "batch_normalization_12 (Batc (None, 6, 6, 256)         1024      \n",
            "_________________________________________________________________\n",
            "pool4_1 (MaxPooling2D)       (None, 3, 3, 256)         0         \n",
            "_________________________________________________________________\n",
            "drop4_1 (Dropout)            (None, 3, 3, 256)         0         \n",
            "_________________________________________________________________\n",
            "conv5_1 (Conv2D)             (None, 3, 3, 512)         1180160   \n",
            "_________________________________________________________________\n",
            "batch_normalization_13 (Batc (None, 3, 3, 512)         2048      \n",
            "_________________________________________________________________\n",
            "conv5_2 (Conv2D)             (None, 3, 3, 512)         2359808   \n",
            "_________________________________________________________________\n",
            "batch_normalization_14 (Batc (None, 3, 3, 512)         2048      \n",
            "_________________________________________________________________\n",
            "conv5_3 (Conv2D)             (None, 3, 3, 512)         2359808   \n",
            "_________________________________________________________________\n",
            "batch_normalization_15 (Batc (None, 3, 3, 512)         2048      \n",
            "_________________________________________________________________\n",
            "conv5_4 (Conv2D)             (None, 3, 3, 512)         2359808   \n",
            "_________________________________________________________________\n",
            "pool5_1 (MaxPooling2D)       (None, 1, 1, 512)         0         \n",
            "_________________________________________________________________\n",
            "drop5_1 (Dropout)            (None, 1, 1, 512)         0         \n",
            "_________________________________________________________________\n",
            "flatten (Flatten)            (None, 512)               0         \n",
            "_________________________________________________________________\n",
            "output (Dense)               (None, 7)                 3591      \n",
            "=================================================================\n",
            "Total params: 13,111,367\n",
            "Trainable params: 13,103,431\n",
            "Non-trainable params: 7,936\n",
            "_________________________________________________________________\n",
            "None\n"
          ],
          "name": "stdout"
        }
      ]
    },
    {
      "cell_type": "code",
      "metadata": {
        "id": "FUbDVEKfkBYN",
        "colab_type": "code",
        "colab": {}
      },
      "source": [
        "from keras.callbacks import ModelCheckpoint\n",
        "filepath=\"weights_min_loss.hdf5\"\n",
        "checkpoint = ModelCheckpoint(filepath, monitor='val_loss', verbose=1, save_best_only=True, mode='min')\n",
        "callbacks_list = [checkpoint]"
      ],
      "execution_count": 18,
      "outputs": []
    },
    {
      "cell_type": "code",
      "metadata": {
        "id": "EuUc2GFHkKa0",
        "colab_type": "code",
        "colab": {
          "base_uri": "https://localhost:8080/",
          "height": 1000
        },
        "outputId": "53ddbb3b-e048-4579-fa90-c00d4e0494a6"
      },
      "source": [
        "\n",
        "num_epochs = 75  \n",
        "history = model.fit_generator(train_flow, \n",
        "                    steps_per_epoch=len(X_train) / batch_size, \n",
        "                    epochs=num_epochs,  \n",
        "                    verbose=2,  \n",
        "                    callbacks=callbacks_list,\n",
        "                    validation_data=val_flow,  \n",
        "                    validation_steps=len(X_val) / batch_size)"
      ],
      "execution_count": 21,
      "outputs": [
        {
          "output_type": "stream",
          "text": [
            "Epoch 1/75\n",
            "WARNING:tensorflow:Callbacks method `on_train_batch_end` is slow compared to the batch time (batch time: 0.0647s vs `on_train_batch_end` time: 0.1023s). Check your callbacks.\n",
            "\n",
            "Epoch 00001: val_loss did not improve from 0.25449\n",
            "449/448 - 66s - loss: 0.2509 - accuracy: 0.5880 - val_loss: 0.2707 - val_accuracy: 0.5581\n",
            "Epoch 2/75\n",
            "\n",
            "Epoch 00002: val_loss improved from 0.25449 to 0.24976, saving model to weights_min_loss.hdf5\n",
            "449/448 - 67s - loss: 0.2479 - accuracy: 0.5980 - val_loss: 0.2498 - val_accuracy: 0.5910\n",
            "Epoch 3/75\n",
            "\n",
            "Epoch 00003: val_loss improved from 0.24976 to 0.24040, saving model to weights_min_loss.hdf5\n",
            "449/448 - 67s - loss: 0.2438 - accuracy: 0.6020 - val_loss: 0.2404 - val_accuracy: 0.6066\n",
            "Epoch 4/75\n",
            "\n",
            "Epoch 00004: val_loss did not improve from 0.24040\n",
            "449/448 - 66s - loss: 0.2414 - accuracy: 0.6091 - val_loss: 0.2525 - val_accuracy: 0.5823\n",
            "Epoch 5/75\n",
            "\n",
            "Epoch 00005: val_loss did not improve from 0.24040\n",
            "449/448 - 66s - loss: 0.2376 - accuracy: 0.6132 - val_loss: 0.2464 - val_accuracy: 0.6004\n",
            "Epoch 6/75\n",
            "\n",
            "Epoch 00006: val_loss improved from 0.24040 to 0.23742, saving model to weights_min_loss.hdf5\n",
            "449/448 - 67s - loss: 0.2335 - accuracy: 0.6215 - val_loss: 0.2374 - val_accuracy: 0.6141\n",
            "Epoch 7/75\n",
            "\n",
            "Epoch 00007: val_loss did not improve from 0.23742\n",
            "449/448 - 66s - loss: 0.2306 - accuracy: 0.6313 - val_loss: 0.2383 - val_accuracy: 0.6239\n",
            "Epoch 8/75\n",
            "\n",
            "Epoch 00008: val_loss did not improve from 0.23742\n",
            "449/448 - 66s - loss: 0.2273 - accuracy: 0.6358 - val_loss: 0.2573 - val_accuracy: 0.5876\n",
            "Epoch 9/75\n",
            "\n",
            "Epoch 00009: val_loss did not improve from 0.23742\n",
            "449/448 - 66s - loss: 0.2247 - accuracy: 0.6437 - val_loss: 0.2398 - val_accuracy: 0.6258\n",
            "Epoch 10/75\n",
            "\n",
            "Epoch 00010: val_loss improved from 0.23742 to 0.22926, saving model to weights_min_loss.hdf5\n",
            "449/448 - 67s - loss: 0.2220 - accuracy: 0.6471 - val_loss: 0.2293 - val_accuracy: 0.6289\n",
            "Epoch 11/75\n",
            "\n",
            "Epoch 00011: val_loss did not improve from 0.22926\n",
            "449/448 - 66s - loss: 0.2195 - accuracy: 0.6481 - val_loss: 0.2388 - val_accuracy: 0.6130\n",
            "Epoch 12/75\n",
            "\n",
            "Epoch 00012: val_loss did not improve from 0.22926\n",
            "449/448 - 66s - loss: 0.2165 - accuracy: 0.6569 - val_loss: 0.2405 - val_accuracy: 0.6236\n",
            "Epoch 13/75\n",
            "\n",
            "Epoch 00013: val_loss did not improve from 0.22926\n",
            "449/448 - 66s - loss: 0.2141 - accuracy: 0.6608 - val_loss: 0.2346 - val_accuracy: 0.6289\n",
            "Epoch 14/75\n",
            "\n",
            "Epoch 00014: val_loss did not improve from 0.22926\n",
            "449/448 - 66s - loss: 0.2114 - accuracy: 0.6650 - val_loss: 0.2378 - val_accuracy: 0.6236\n",
            "Epoch 15/75\n",
            "\n",
            "Epoch 00015: val_loss did not improve from 0.22926\n",
            "449/448 - 66s - loss: 0.2093 - accuracy: 0.6696 - val_loss: 0.2318 - val_accuracy: 0.6325\n",
            "Epoch 16/75\n",
            "\n",
            "Epoch 00016: val_loss did not improve from 0.22926\n",
            "449/448 - 66s - loss: 0.2076 - accuracy: 0.6759 - val_loss: 0.2305 - val_accuracy: 0.6414\n",
            "Epoch 17/75\n",
            "\n",
            "Epoch 00017: val_loss did not improve from 0.22926\n",
            "449/448 - 66s - loss: 0.2043 - accuracy: 0.6799 - val_loss: 0.2374 - val_accuracy: 0.6183\n",
            "Epoch 18/75\n",
            "\n",
            "Epoch 00018: val_loss did not improve from 0.22926\n",
            "449/448 - 66s - loss: 0.2024 - accuracy: 0.6827 - val_loss: 0.2338 - val_accuracy: 0.6411\n",
            "Epoch 19/75\n",
            "\n",
            "Epoch 00019: val_loss improved from 0.22926 to 0.22625, saving model to weights_min_loss.hdf5\n",
            "449/448 - 67s - loss: 0.1991 - accuracy: 0.6905 - val_loss: 0.2262 - val_accuracy: 0.6447\n",
            "Epoch 20/75\n",
            "\n",
            "Epoch 00020: val_loss did not improve from 0.22625\n",
            "449/448 - 66s - loss: 0.1964 - accuracy: 0.6929 - val_loss: 0.2276 - val_accuracy: 0.6408\n",
            "Epoch 21/75\n",
            "\n",
            "Epoch 00021: val_loss did not improve from 0.22625\n",
            "449/448 - 66s - loss: 0.1948 - accuracy: 0.6990 - val_loss: 0.2342 - val_accuracy: 0.6361\n",
            "Epoch 22/75\n",
            "\n",
            "Epoch 00022: val_loss did not improve from 0.22625\n",
            "449/448 - 67s - loss: 0.1924 - accuracy: 0.7002 - val_loss: 0.2266 - val_accuracy: 0.6578\n",
            "Epoch 23/75\n",
            "\n",
            "Epoch 00023: val_loss did not improve from 0.22625\n",
            "449/448 - 66s - loss: 0.1906 - accuracy: 0.7050 - val_loss: 0.2388 - val_accuracy: 0.6297\n",
            "Epoch 24/75\n",
            "\n",
            "Epoch 00024: val_loss did not improve from 0.22625\n",
            "449/448 - 66s - loss: 0.1875 - accuracy: 0.7096 - val_loss: 0.2302 - val_accuracy: 0.6562\n",
            "Epoch 25/75\n",
            "\n",
            "Epoch 00025: val_loss did not improve from 0.22625\n",
            "449/448 - 66s - loss: 0.1840 - accuracy: 0.7182 - val_loss: 0.2394 - val_accuracy: 0.6414\n",
            "Epoch 26/75\n",
            "\n",
            "Epoch 00026: val_loss did not improve from 0.22625\n",
            "449/448 - 66s - loss: 0.1828 - accuracy: 0.7169 - val_loss: 0.2312 - val_accuracy: 0.6512\n",
            "Epoch 27/75\n",
            "\n",
            "Epoch 00027: val_loss improved from 0.22625 to 0.21944, saving model to weights_min_loss.hdf5\n",
            "449/448 - 67s - loss: 0.1806 - accuracy: 0.7251 - val_loss: 0.2194 - val_accuracy: 0.6617\n",
            "Epoch 28/75\n",
            "\n",
            "Epoch 00028: val_loss did not improve from 0.21944\n",
            "449/448 - 67s - loss: 0.1782 - accuracy: 0.7249 - val_loss: 0.2313 - val_accuracy: 0.6581\n",
            "Epoch 29/75\n",
            "\n",
            "Epoch 00029: val_loss did not improve from 0.21944\n",
            "449/448 - 66s - loss: 0.1758 - accuracy: 0.7309 - val_loss: 0.2255 - val_accuracy: 0.6648\n",
            "Epoch 30/75\n",
            "\n",
            "Epoch 00030: val_loss did not improve from 0.21944\n",
            "449/448 - 66s - loss: 0.1733 - accuracy: 0.7372 - val_loss: 0.2284 - val_accuracy: 0.6626\n",
            "Epoch 31/75\n",
            "\n",
            "Epoch 00031: val_loss did not improve from 0.21944\n",
            "449/448 - 66s - loss: 0.1718 - accuracy: 0.7387 - val_loss: 0.2429 - val_accuracy: 0.6509\n",
            "Epoch 32/75\n",
            "\n",
            "Epoch 00032: val_loss did not improve from 0.21944\n",
            "449/448 - 66s - loss: 0.1688 - accuracy: 0.7403 - val_loss: 0.2363 - val_accuracy: 0.6640\n",
            "Epoch 33/75\n",
            "\n",
            "Epoch 00033: val_loss did not improve from 0.21944\n",
            "449/448 - 66s - loss: 0.1674 - accuracy: 0.7470 - val_loss: 0.2372 - val_accuracy: 0.6592\n",
            "Epoch 34/75\n",
            "\n",
            "Epoch 00034: val_loss did not improve from 0.21944\n",
            "449/448 - 66s - loss: 0.1659 - accuracy: 0.7479 - val_loss: 0.2298 - val_accuracy: 0.6587\n",
            "Epoch 35/75\n",
            "\n",
            "Epoch 00035: val_loss did not improve from 0.21944\n",
            "449/448 - 66s - loss: 0.1622 - accuracy: 0.7561 - val_loss: 0.2406 - val_accuracy: 0.6687\n",
            "Epoch 36/75\n",
            "\n",
            "Epoch 00036: val_loss did not improve from 0.21944\n",
            "449/448 - 66s - loss: 0.1602 - accuracy: 0.7585 - val_loss: 0.2300 - val_accuracy: 0.6721\n",
            "Epoch 37/75\n",
            "\n",
            "Epoch 00037: val_loss did not improve from 0.21944\n",
            "449/448 - 66s - loss: 0.1578 - accuracy: 0.7643 - val_loss: 0.2257 - val_accuracy: 0.6801\n",
            "Epoch 38/75\n",
            "\n",
            "Epoch 00038: val_loss did not improve from 0.21944\n",
            "449/448 - 66s - loss: 0.1570 - accuracy: 0.7629 - val_loss: 0.2314 - val_accuracy: 0.6776\n",
            "Epoch 39/75\n",
            "\n",
            "Epoch 00039: val_loss did not improve from 0.21944\n",
            "449/448 - 66s - loss: 0.1539 - accuracy: 0.7703 - val_loss: 0.2416 - val_accuracy: 0.6609\n",
            "Epoch 40/75\n",
            "\n",
            "Epoch 00040: val_loss did not improve from 0.21944\n",
            "449/448 - 66s - loss: 0.1536 - accuracy: 0.7699 - val_loss: 0.2324 - val_accuracy: 0.6676\n",
            "Epoch 41/75\n",
            "\n",
            "Epoch 00041: val_loss did not improve from 0.21944\n",
            "449/448 - 66s - loss: 0.1506 - accuracy: 0.7743 - val_loss: 0.2375 - val_accuracy: 0.6693\n",
            "Epoch 42/75\n",
            "\n",
            "Epoch 00042: val_loss did not improve from 0.21944\n",
            "449/448 - 66s - loss: 0.1495 - accuracy: 0.7775 - val_loss: 0.2385 - val_accuracy: 0.6773\n",
            "Epoch 43/75\n",
            "\n",
            "Epoch 00043: val_loss did not improve from 0.21944\n",
            "449/448 - 66s - loss: 0.1471 - accuracy: 0.7817 - val_loss: 0.2370 - val_accuracy: 0.6726\n",
            "Epoch 44/75\n",
            "\n",
            "Epoch 00044: val_loss did not improve from 0.21944\n",
            "449/448 - 66s - loss: 0.1439 - accuracy: 0.7876 - val_loss: 0.2460 - val_accuracy: 0.6567\n",
            "Epoch 45/75\n",
            "\n",
            "Epoch 00045: val_loss did not improve from 0.21944\n",
            "449/448 - 66s - loss: 0.1425 - accuracy: 0.7898 - val_loss: 0.2338 - val_accuracy: 0.6771\n",
            "Epoch 46/75\n",
            "\n",
            "Epoch 00046: val_loss did not improve from 0.21944\n",
            "449/448 - 66s - loss: 0.1400 - accuracy: 0.7911 - val_loss: 0.2311 - val_accuracy: 0.6896\n",
            "Epoch 47/75\n",
            "\n",
            "Epoch 00047: val_loss did not improve from 0.21944\n",
            "449/448 - 66s - loss: 0.1387 - accuracy: 0.7932 - val_loss: 0.2376 - val_accuracy: 0.6888\n",
            "Epoch 48/75\n",
            "\n",
            "Epoch 00048: val_loss did not improve from 0.21944\n",
            "449/448 - 66s - loss: 0.1378 - accuracy: 0.7955 - val_loss: 0.2418 - val_accuracy: 0.6734\n",
            "Epoch 49/75\n",
            "\n",
            "Epoch 00049: val_loss did not improve from 0.21944\n",
            "449/448 - 66s - loss: 0.1344 - accuracy: 0.8004 - val_loss: 0.2515 - val_accuracy: 0.6668\n",
            "Epoch 50/75\n",
            "\n",
            "Epoch 00050: val_loss did not improve from 0.21944\n",
            "449/448 - 66s - loss: 0.1333 - accuracy: 0.8031 - val_loss: 0.2444 - val_accuracy: 0.6804\n",
            "Epoch 51/75\n",
            "\n",
            "Epoch 00051: val_loss did not improve from 0.21944\n",
            "449/448 - 66s - loss: 0.1298 - accuracy: 0.8079 - val_loss: 0.2496 - val_accuracy: 0.6704\n",
            "Epoch 52/75\n",
            "\n",
            "Epoch 00052: val_loss did not improve from 0.21944\n",
            "449/448 - 66s - loss: 0.1297 - accuracy: 0.8095 - val_loss: 0.2522 - val_accuracy: 0.6718\n",
            "Epoch 53/75\n",
            "\n",
            "Epoch 00053: val_loss did not improve from 0.21944\n",
            "449/448 - 66s - loss: 0.1289 - accuracy: 0.8115 - val_loss: 0.2626 - val_accuracy: 0.6712\n",
            "Epoch 54/75\n",
            "\n",
            "Epoch 00054: val_loss did not improve from 0.21944\n",
            "449/448 - 66s - loss: 0.1248 - accuracy: 0.8177 - val_loss: 0.2591 - val_accuracy: 0.6695\n",
            "Epoch 55/75\n",
            "\n",
            "Epoch 00055: val_loss did not improve from 0.21944\n",
            "449/448 - 66s - loss: 0.1253 - accuracy: 0.8160 - val_loss: 0.2473 - val_accuracy: 0.6740\n",
            "Epoch 56/75\n",
            "\n",
            "Epoch 00056: val_loss did not improve from 0.21944\n",
            "449/448 - 66s - loss: 0.1228 - accuracy: 0.8232 - val_loss: 0.2501 - val_accuracy: 0.6807\n",
            "Epoch 57/75\n",
            "\n",
            "Epoch 00057: val_loss did not improve from 0.21944\n",
            "449/448 - 66s - loss: 0.1214 - accuracy: 0.8230 - val_loss: 0.2454 - val_accuracy: 0.6838\n",
            "Epoch 58/75\n",
            "\n",
            "Epoch 00058: val_loss did not improve from 0.21944\n",
            "449/448 - 66s - loss: 0.1197 - accuracy: 0.8254 - val_loss: 0.2634 - val_accuracy: 0.6693\n",
            "Epoch 59/75\n",
            "\n",
            "Epoch 00059: val_loss did not improve from 0.21944\n",
            "449/448 - 66s - loss: 0.1186 - accuracy: 0.8274 - val_loss: 0.2598 - val_accuracy: 0.6673\n",
            "Epoch 60/75\n",
            "\n",
            "Epoch 00060: val_loss did not improve from 0.21944\n",
            "449/448 - 66s - loss: 0.1178 - accuracy: 0.8260 - val_loss: 0.2552 - val_accuracy: 0.6851\n",
            "Epoch 61/75\n",
            "\n",
            "Epoch 00061: val_loss did not improve from 0.21944\n",
            "449/448 - 66s - loss: 0.1155 - accuracy: 0.8310 - val_loss: 0.2734 - val_accuracy: 0.6760\n",
            "Epoch 62/75\n",
            "\n",
            "Epoch 00062: val_loss did not improve from 0.21944\n",
            "449/448 - 66s - loss: 0.1139 - accuracy: 0.8355 - val_loss: 0.2774 - val_accuracy: 0.6601\n",
            "Epoch 63/75\n",
            "\n",
            "Epoch 00063: val_loss did not improve from 0.21944\n",
            "449/448 - 66s - loss: 0.1128 - accuracy: 0.8374 - val_loss: 0.2804 - val_accuracy: 0.6743\n",
            "Epoch 64/75\n",
            "\n",
            "Epoch 00064: val_loss did not improve from 0.21944\n",
            "449/448 - 66s - loss: 0.1111 - accuracy: 0.8394 - val_loss: 0.2716 - val_accuracy: 0.6670\n",
            "Epoch 65/75\n",
            "\n",
            "Epoch 00065: val_loss did not improve from 0.21944\n",
            "449/448 - 66s - loss: 0.1107 - accuracy: 0.8401 - val_loss: 0.2639 - val_accuracy: 0.6740\n",
            "Epoch 66/75\n",
            "\n",
            "Epoch 00066: val_loss did not improve from 0.21944\n",
            "449/448 - 66s - loss: 0.1068 - accuracy: 0.8481 - val_loss: 0.2720 - val_accuracy: 0.6729\n",
            "Epoch 67/75\n",
            "\n",
            "Epoch 00067: val_loss did not improve from 0.21944\n",
            "449/448 - 66s - loss: 0.1059 - accuracy: 0.8465 - val_loss: 0.2654 - val_accuracy: 0.6812\n",
            "Epoch 68/75\n",
            "\n",
            "Epoch 00068: val_loss did not improve from 0.21944\n",
            "449/448 - 66s - loss: 0.1039 - accuracy: 0.8493 - val_loss: 0.2745 - val_accuracy: 0.6757\n",
            "Epoch 69/75\n",
            "\n",
            "Epoch 00069: val_loss did not improve from 0.21944\n",
            "449/448 - 66s - loss: 0.1038 - accuracy: 0.8497 - val_loss: 0.2707 - val_accuracy: 0.6849\n",
            "Epoch 70/75\n",
            "\n",
            "Epoch 00070: val_loss did not improve from 0.21944\n",
            "449/448 - 66s - loss: 0.1024 - accuracy: 0.8531 - val_loss: 0.2802 - val_accuracy: 0.6801\n",
            "Epoch 71/75\n",
            "\n",
            "Epoch 00071: val_loss did not improve from 0.21944\n",
            "449/448 - 66s - loss: 0.1000 - accuracy: 0.8556 - val_loss: 0.2780 - val_accuracy: 0.6838\n",
            "Epoch 72/75\n",
            "\n",
            "Epoch 00072: val_loss did not improve from 0.21944\n",
            "449/448 - 66s - loss: 0.1003 - accuracy: 0.8553 - val_loss: 0.2898 - val_accuracy: 0.6673\n",
            "Epoch 73/75\n",
            "\n",
            "Epoch 00073: val_loss did not improve from 0.21944\n",
            "449/448 - 66s - loss: 0.0980 - accuracy: 0.8590 - val_loss: 0.2865 - val_accuracy: 0.6793\n",
            "Epoch 74/75\n",
            "\n",
            "Epoch 00074: val_loss did not improve from 0.21944\n",
            "449/448 - 66s - loss: 0.0969 - accuracy: 0.8632 - val_loss: 0.2745 - val_accuracy: 0.6835\n",
            "Epoch 75/75\n",
            "\n",
            "Epoch 00075: val_loss did not improve from 0.21944\n",
            "449/448 - 66s - loss: 0.0959 - accuracy: 0.8630 - val_loss: 0.2913 - val_accuracy: 0.6679\n"
          ],
          "name": "stdout"
        }
      ]
    },
    {
      "cell_type": "code",
      "metadata": {
        "id": "O1SY4s5z7SN7",
        "colab_type": "code",
        "colab": {
          "base_uri": "https://localhost:8080/",
          "height": 607
        },
        "outputId": "85bd67b0-525d-4142-8242-cc4e8abda829"
      },
      "source": [
        "%matplotlib inline\n",
        "\n",
        "train_loss=history.history['loss']\n",
        "val_loss=history.history['val_loss']\n",
        "train_acc=history.history['accuracy']\n",
        "val_acc=history.history['val_accuracy']\n",
        "\n",
        "epochs = range(len(train_acc))\n",
        "\n",
        "plt.plot(epochs,train_loss,'r', label='train_loss')\n",
        "plt.plot(epochs,val_loss,'b', label='val_loss')\n",
        "plt.title('train_loss vs val_loss')\n",
        "plt.xlabel('epoch')\n",
        "plt.ylabel('loss')\n",
        "plt.legend()\n",
        "plt.figure()\n",
        "\n",
        "plt.plot(epochs,train_acc,'r', label='train_acc')\n",
        "plt.plot(epochs,val_acc,'b', label='val_acc')\n",
        "plt.title('train_acc vs val_acc')\n",
        "plt.xlabel('epoch')\n",
        "plt.ylabel('accuracy')\n",
        "plt.legend()\n",
        "plt.figure()"
      ],
      "execution_count": 22,
      "outputs": [
        {
          "output_type": "execute_result",
          "data": {
            "text/plain": [
              "<Figure size 432x288 with 0 Axes>"
            ]
          },
          "metadata": {
            "tags": []
          },
          "execution_count": 22
        },
        {
          "output_type": "display_data",
          "data": {
            "image/png": "[encoded data removed]",
            "text/plain": [
              "<Figure size 432x288 with 1 Axes>"
            ]
          },
          "metadata": {
            "tags": [],
            "needs_background": "light"
          }
        },
        {
          "output_type": "display_data",
          "data": {
            "image/png": "[encoded data removed]",
            "text/plain": [
              "<Figure size 432x288 with 1 Axes>"
            ]
          },
          "metadata": {
            "tags": [],
            "needs_background": "light"
          }
        },
        {
          "output_type": "display_data",
          "data": {
            "text/plain": [
              "<Figure size 432x288 with 0 Axes>"
            ]
          },
          "metadata": {
            "tags": []
          }
        }
      ]
    },
    {
      "cell_type": "code",
      "metadata": {
        "id": "IdUcxZmo7WfD",
        "colab_type": "code",
        "colab": {
          "base_uri": "https://localhost:8080/",
          "height": 122
        },
        "outputId": "dc017ddf-a07c-4141-b344-0adcbc6498d5"
      },
      "source": [
        "loss = model.evaluate_generator(test_flow, steps=len(X_test) / batch_size) \n",
        "print(\"Test Loss \" + str(loss[0]))\n",
        "print(\"Test Acc: \" + str(loss[1]))"
      ],
      "execution_count": 23,
      "outputs": [
        {
          "output_type": "stream",
          "text": [
            "WARNING:tensorflow:From <ipython-input-23-55e5f85b2c9a>:1: Model.evaluate_generator (from tensorflow.python.keras.engine.training) is deprecated and will be removed in a future version.\n",
            "Instructions for updating:\n",
            "Please use Model.evaluate, which supports generators.\n",
            "Test Loss 0.2722351849079132\n",
            "Test Acc: 0.6706603765487671\n"
          ],
          "name": "stdout"
        }
      ]
    },
    {
      "cell_type": "code",
      "metadata": {
        "id": "8fshLY2V7eOG",
        "colab_type": "code",
        "colab": {}
      },
      "source": [
        "model.save('Fer2013.h5')"
      ],
      "execution_count": 25,
      "outputs": []
    },
    {
      "cell_type": "code",
      "metadata": {
        "id": "fLNIPgjD7kf0",
        "colab_type": "code",
        "colab": {
          "base_uri": "https://localhost:8080/",
          "height": 68
        },
        "outputId": "05df8917-7a2a-42ec-af37-aff0cd2cfc50"
      },
      "source": [
        "loss = model.evaluate(X_test/255., y_test) \n",
        "print(\"Test Loss \" + str(loss[0]))\n",
        "print(\"Test Acc: \" + str(loss[1]))"
      ],
      "execution_count": 26,
      "outputs": [
        {
          "output_type": "stream",
          "text": [
            "113/113 [==============================] - 3s 28ms/step - loss: 0.2722 - accuracy: 0.6707\n",
            "Test Loss 0.2722351849079132\n",
            "Test Acc: 0.6706603765487671\n"
          ],
          "name": "stdout"
        }
      ]
    },
    {
      "cell_type": "code",
      "metadata": {
        "id": "xi62FTLu7nld",
        "colab_type": "code",
        "colab": {
          "base_uri": "https://localhost:8080/",
          "height": 68
        },
        "outputId": "575323ac-7746-4793-8a7d-64c9e280d806"
      },
      "source": [
        "loss = model.evaluate(X_val/255., y_val) \n",
        "print(\"Validation Loss \" + str(loss[0]))\n",
        "print(\"Validation Acc: \" + str(loss[1]))"
      ],
      "execution_count": 27,
      "outputs": [
        {
          "output_type": "stream",
          "text": [
            "113/113 [==============================] - 3s 29ms/step - loss: 0.2913 - accuracy: 0.6679\n",
            "Validation Loss 0.29130807518959045\n",
            "Validation Acc: 0.6678740382194519\n"
          ],
          "name": "stdout"
        }
      ]
    },
    {
      "cell_type": "code",
      "metadata": {
        "id": "6fdgmQOf7sML",
        "colab_type": "code",
        "colab": {}
      },
      "source": [
        "def plot_confusion_matrix(y_test, y_pred, classes,\n",
        "                          normalize=False,\n",
        "                          title='Unnormalized confusion matrix',\n",
        "                          cmap=plt.cm.Blues):\n",
        "    cm = confusion_matrix(y_test, y_pred)\n",
        "    \n",
        "    if normalize:\n",
        "        cm = np.round(cm.astype('float') / cm.sum(axis=1)[:, np.newaxis], 2)\n",
        "        \n",
        "    np.set_printoptions(precision=2)\n",
        "        \n",
        "    plt.imshow(cm, interpolation='nearest', cmap=cmap)\n",
        "    plt.title(title)\n",
        "    plt.colorbar()\n",
        "    tick_marks = np.arange(len(classes))\n",
        "    plt.xticks(tick_marks, classes, rotation=45)\n",
        "    plt.yticks(tick_marks, classes)\n",
        "\n",
        "    thresh = cm.min() + (cm.max() - cm.min()) / 2.\n",
        "    for i, j in itertools.product(range(cm.shape[0]), range(cm.shape[1])):\n",
        "        plt.text(j, i, cm[i, j],\n",
        "                 horizontalalignment=\"center\",\n",
        "                 color=\"white\" if cm[i, j] > thresh else \"black\")\n",
        "\n",
        "    plt.tight_layout()\n",
        "    plt.ylabel('True expression')\n",
        "    plt.xlabel('Predicted expression')\n",
        "    plt.show()"
      ],
      "execution_count": 28,
      "outputs": []
    },
    {
      "cell_type": "code",
      "metadata": {
        "id": "lsYedQGX7wQp",
        "colab_type": "code",
        "colab": {
          "base_uri": "https://localhost:8080/",
          "height": 71
        },
        "outputId": "50de307d-5534-4328-bc09-df7d24bc4ac0"
      },
      "source": [
        "y_pred_ = model.predict(X_test/255., verbose=1)\n",
        "y_pred = np.argmax(y_pred_, axis=1)\n",
        "t_te = np.argmax(y_test, axis=1)"
      ],
      "execution_count": 29,
      "outputs": [
        {
          "output_type": "stream",
          "text": [
            "  1/113 [..............................] - ETA: 0sWARNING:tensorflow:Callbacks method `on_predict_batch_end` is slow compared to the batch time (batch time: 0.0054s vs `on_predict_batch_end` time: 0.0282s). Check your callbacks.\n",
            "113/113 [==============================] - 3s 26ms/step\n"
          ],
          "name": "stdout"
        }
      ]
    },
    {
      "cell_type": "code",
      "metadata": {
        "id": "94gUUVe173M8",
        "colab_type": "code",
        "colab": {
          "base_uri": "https://localhost:8080/",
          "height": 311
        },
        "outputId": "9a737736-452b-446b-cf25-988f3d1bc256"
      },
      "source": [
        "fig = plot_confusion_matrix(y_test=t_te, y_pred=y_pred,\n",
        "                      classes=classes,\n",
        "                      normalize=True,\n",
        "                      cmap=plt.cm.Blues,\n",
        "                      title='Average accuracy: ' + str(np.sum(y_pred == t_te)/len(t_te)) + '\\n')"
      ],
      "execution_count": 30,
      "outputs": [
        {
          "output_type": "display_data",
          "data": {
            "image/png": "[encoded data removed]",
            "text/plain": [
              "<Figure size 432x288 with 2 Axes>"
            ]
          },
          "metadata": {
            "tags": [],
            "needs_background": "light"
          }
        }
      ]
    }
  ]
}