{
  "nbformat": 4,
  "nbformat_minor": 0,
  "metadata": {
    "colab": {
      "name": "EmotionRecognition4.ipynb",
      "provenance": []
    },
    "kernelspec": {
      "name": "python3",
      "display_name": "Python 3"
    },
    "accelerator": "GPU"
  },
  "cells": [
    {
      "cell_type": "code",
      "metadata": {
        "id": "KpAdrjapG1Vh",
        "colab_type": "code",
        "colab": {
          "base_uri": "https://localhost:8080/",
          "height": 122
        },
        "outputId": "f221d3e7-b3e1-4283-8123-46dfa58f38af"
      },
      "source": [
        "from google.colab import drive\n",
        "drive.mount('drive')"
      ],
      "execution_count": 3,
      "outputs": [
        {
          "output_type": "stream",
          "text": [
            "Go to this URL in a browser: https://accounts.google.com/o/oauth2/auth?client_id=947318989803-6bn6qk8qdgf4n4g3pfee6491hc0brc4i.apps.googleusercontent.com&redirect_uri=urn%3aietf%3awg%3aoauth%3a2.0%3aoob&scope=email%20https%3a%2f%2fwww.googleapis.com%2fauth%2fdocs.test%20https%3a%2f%2fwww.googleapis.com%2fauth%2fdrive%20https%3a%2f%2fwww.googleapis.com%2fauth%2fdrive.photos.readonly%20https%3a%2f%2fwww.googleapis.com%2fauth%2fpeopleapi.readonly&response_type=code\n",
            "\n",
            "Enter your authorization code:\n",
            "··········\n",
            "Mounted at drive\n"
          ],
          "name": "stdout"
        }
      ]
    },
    {
      "cell_type": "code",
      "metadata": {
        "id": "N7u3sp9CHxBj",
        "colab_type": "code",
        "colab": {
          "base_uri": "https://localhost:8080/",
          "height": 204
        },
        "outputId": "c036ba04-bff0-475d-df16-20df539e4e80"
      },
      "source": [
        "import numpy as np # linear algebra\n",
        "import pandas as pd \n",
        "\n",
        "data = pd.read_csv(\"drive/My Drive/fer2013.csv\")\n",
        "data.head()"
      ],
      "execution_count": 4,
      "outputs": [
        {
          "output_type": "execute_result",
          "data": {
            "text/html": [
              "<div>\n",
              "<style scoped>\n",
              "    .dataframe tbody tr th:only-of-type {\n",
              "        vertical-align: middle;\n",
              "    }\n",
              "\n",
              "    .dataframe tbody tr th {\n",
              "        vertical-align: top;\n",
              "    }\n",
              "\n",
              "    .dataframe thead th {\n",
              "        text-align: right;\n",
              "    }\n",
              "</style>\n",
              "<table border=\"1\" class=\"dataframe\">\n",
              "  <thead>\n",
              "    <tr style=\"text-align: right;\">\n",
              "      <th></th>\n",
              "      <th>emotion</th>\n",
              "      <th>pixels</th>\n",
              "      <th>Usage</th>\n",
              "    </tr>\n",
              "  </thead>\n",
              "  <tbody>\n",
              "    <tr>\n",
              "      <th>0</th>\n",
              "      <td>0</td>\n",
              "      <td>70 80 82 72 58 58 60 63 54 58 60 48 89 115 121...</td>\n",
              "      <td>Training</td>\n",
              "    </tr>\n",
              "    <tr>\n",
              "      <th>1</th>\n",
              "      <td>0</td>\n",
              "      <td>151 150 147 155 148 133 111 140 170 174 182 15...</td>\n",
              "      <td>Training</td>\n",
              "    </tr>\n",
              "    <tr>\n",
              "      <th>2</th>\n",
              "      <td>2</td>\n",
              "      <td>231 212 156 164 174 138 161 173 182 200 106 38...</td>\n",
              "      <td>Training</td>\n",
              "    </tr>\n",
              "    <tr>\n",
              "      <th>3</th>\n",
              "      <td>4</td>\n",
              "      <td>24 32 36 30 32 23 19 20 30 41 21 22 32 34 21 1...</td>\n",
              "      <td>Training</td>\n",
              "    </tr>\n",
              "    <tr>\n",
              "      <th>4</th>\n",
              "      <td>6</td>\n",
              "      <td>4 0 0 0 0 0 0 0 0 0 0 0 3 15 23 28 48 50 58 84...</td>\n",
              "      <td>Training</td>\n",
              "    </tr>\n",
              "  </tbody>\n",
              "</table>\n",
              "</div>"
            ],
            "text/plain": [
              "   emotion                                             pixels     Usage\n",
              "0        0  70 80 82 72 58 58 60 63 54 58 60 48 89 115 121...  Training\n",
              "1        0  151 150 147 155 148 133 111 140 170 174 182 15...  Training\n",
              "2        2  231 212 156 164 174 138 161 173 182 200 106 38...  Training\n",
              "3        4  24 32 36 30 32 23 19 20 30 41 21 22 32 34 21 1...  Training\n",
              "4        6  4 0 0 0 0 0 0 0 0 0 0 0 3 15 23 28 48 50 58 84...  Training"
            ]
          },
          "metadata": {
            "tags": []
          },
          "execution_count": 4
        }
      ]
    },
    {
      "cell_type": "code",
      "metadata": {
        "id": "H9bX2Ru6H5JZ",
        "colab_type": "code",
        "colab": {
          "base_uri": "https://localhost:8080/",
          "height": 34
        },
        "outputId": "50c3fd93-ebd5-4ff4-d2fe-8d43662262e2"
      },
      "source": [
        "data.Usage.unique()"
      ],
      "execution_count": 5,
      "outputs": [
        {
          "output_type": "execute_result",
          "data": {
            "text/plain": [
              "array(['Training', 'PublicTest', 'PrivateTest'], dtype=object)"
            ]
          },
          "metadata": {
            "tags": []
          },
          "execution_count": 5
        }
      ]
    },
    {
      "cell_type": "code",
      "metadata": {
        "id": "wuys2yfmH9mf",
        "colab_type": "code",
        "colab": {
          "base_uri": "https://localhost:8080/",
          "height": 34
        },
        "outputId": "452ac89f-bd3b-4140-fddd-55717f84cda6"
      },
      "source": [
        "data = data.drop(['Usage'], axis=1)\n",
        "data.shape"
      ],
      "execution_count": 6,
      "outputs": [
        {
          "output_type": "execute_result",
          "data": {
            "text/plain": [
              "(35887, 2)"
            ]
          },
          "metadata": {
            "tags": []
          },
          "execution_count": 6
        }
      ]
    },
    {
      "cell_type": "code",
      "metadata": {
        "id": "XDhSCq6_IArc",
        "colab_type": "code",
        "colab": {
          "base_uri": "https://localhost:8080/",
          "height": 34
        },
        "outputId": "bce25964-084b-494f-fda6-c35d1a8abab2"
      },
      "source": [
        "from sklearn.model_selection import train_test_split\n",
        "\n",
        "train = data['pixels']\n",
        "test = data['emotion']\n",
        "\n",
        "X_train, X_test, y_train, y_test = train_test_split(train, test, test_size=0.1, random_state=10)\n",
        "\n",
        "print(X_train.shape, X_test.shape, y_train.shape, y_test.shape)"
      ],
      "execution_count": 7,
      "outputs": [
        {
          "output_type": "stream",
          "text": [
            "(32298,) (3589,) (32298,) (3589,)\n"
          ],
          "name": "stdout"
        }
      ]
    },
    {
      "cell_type": "code",
      "metadata": {
        "id": "FVgmKqgoIa9i",
        "colab_type": "code",
        "colab": {}
      },
      "source": [
        "width, height = 48, 48"
      ],
      "execution_count": 8,
      "outputs": []
    },
    {
      "cell_type": "code",
      "metadata": {
        "id": "QtIPzPJMIfXO",
        "colab_type": "code",
        "colab": {
          "base_uri": "https://localhost:8080/",
          "height": 34
        },
        "outputId": "b196edf1-05dc-4084-d370-e2906eb8f6d7"
      },
      "source": [
        "X_train1 = []\n",
        "for i in X_train:\n",
        "    X_train1.append([int(p) for p in i.split()])\n",
        "X_train1 = np.array(X_train1)/255.\n",
        "X_train1.shape"
      ],
      "execution_count": 9,
      "outputs": [
        {
          "output_type": "execute_result",
          "data": {
            "text/plain": [
              "(32298, 2304)"
            ]
          },
          "metadata": {
            "tags": []
          },
          "execution_count": 9
        }
      ]
    },
    {
      "cell_type": "code",
      "metadata": {
        "id": "PrdyrPgXImIy",
        "colab_type": "code",
        "colab": {
          "base_uri": "https://localhost:8080/",
          "height": 34
        },
        "outputId": "3df5360a-276a-4e8d-c987-147913fde746"
      },
      "source": [
        "X_test1 = []\n",
        "for i in X_test:\n",
        "    X_test1.append([int(p) for p in i.split()])\n",
        "X_test1 = np.array(X_test1)/255.\n",
        "X_test1.shape"
      ],
      "execution_count": 10,
      "outputs": [
        {
          "output_type": "execute_result",
          "data": {
            "text/plain": [
              "(3589, 2304)"
            ]
          },
          "metadata": {
            "tags": []
          },
          "execution_count": 10
        }
      ]
    },
    {
      "cell_type": "code",
      "metadata": {
        "id": "tjjUCF2oIpKO",
        "colab_type": "code",
        "colab": {
          "base_uri": "https://localhost:8080/",
          "height": 85
        },
        "outputId": "7f0ca804-345f-47ae-b4b2-147f62b59bf3"
      },
      "source": [
        "X_test1[:2]"
      ],
      "execution_count": 11,
      "outputs": [
        {
          "output_type": "execute_result",
          "data": {
            "text/plain": [
              "array([[0.72941176, 0.32156863, 0.37647059, ..., 0.99607843, 0.99607843,\n",
              "        0.99607843],\n",
              "       [0.34509804, 0.32941176, 0.36470588, ..., 0.64705882, 0.59607843,\n",
              "        0.56078431]])"
            ]
          },
          "metadata": {
            "tags": []
          },
          "execution_count": 11
        }
      ]
    },
    {
      "cell_type": "code",
      "metadata": {
        "id": "0JLJ9MQ1Is1J",
        "colab_type": "code",
        "colab": {
          "base_uri": "https://localhost:8080/",
          "height": 153
        },
        "outputId": "0d6c6864-cc2f-46f2-8f5f-ad5fd792407a"
      },
      "source": [
        "X_train1[:4]"
      ],
      "execution_count": 12,
      "outputs": [
        {
          "output_type": "execute_result",
          "data": {
            "text/plain": [
              "array([[0.23137255, 0.25098039, 0.28627451, ..., 0.24313725, 0.23529412,\n",
              "        0.23529412],\n",
              "       [0.        , 0.        , 0.00784314, ..., 0.23137255, 0.2       ,\n",
              "        0.15294118],\n",
              "       [0.03137255, 0.11372549, 0.14901961, ..., 0.7372549 , 0.7372549 ,\n",
              "        0.74117647],\n",
              "       [0.21176471, 0.40392157, 0.4627451 , ..., 0.90980392, 0.9372549 ,\n",
              "        0.8745098 ]])"
            ]
          },
          "metadata": {
            "tags": []
          },
          "execution_count": 12
        }
      ]
    },
    {
      "cell_type": "code",
      "metadata": {
        "id": "Db6lKFrdIv7n",
        "colab_type": "code",
        "colab": {}
      },
      "source": [
        "X_train1 = X_train1.reshape(X_train1.shape[0], 48, 48, 1)"
      ],
      "execution_count": 13,
      "outputs": []
    },
    {
      "cell_type": "code",
      "metadata": {
        "id": "nmI9hh7OIw4V",
        "colab_type": "code",
        "colab": {
          "base_uri": "https://localhost:8080/",
          "height": 34
        },
        "outputId": "277e75cd-f588-4166-f4c8-11f57ff218b9"
      },
      "source": [
        "X_train1.shape"
      ],
      "execution_count": 14,
      "outputs": [
        {
          "output_type": "execute_result",
          "data": {
            "text/plain": [
              "(32298, 48, 48, 1)"
            ]
          },
          "metadata": {
            "tags": []
          },
          "execution_count": 14
        }
      ]
    },
    {
      "cell_type": "code",
      "metadata": {
        "id": "n-ccID0CI5E7",
        "colab_type": "code",
        "colab": {
          "base_uri": "https://localhost:8080/",
          "height": 34
        },
        "outputId": "3fa8ec23-5199-4cfb-b6a0-5379b3f3347f"
      },
      "source": [
        "X_test1 = X_test1.reshape(X_test1.shape[0], 48, 48, 1)\n",
        "X_test1.shape"
      ],
      "execution_count": 15,
      "outputs": [
        {
          "output_type": "execute_result",
          "data": {
            "text/plain": [
              "(3589, 48, 48, 1)"
            ]
          },
          "metadata": {
            "tags": []
          },
          "execution_count": 15
        }
      ]
    },
    {
      "cell_type": "code",
      "metadata": {
        "id": "FOcTqLjBI9Ud",
        "colab_type": "code",
        "colab": {
          "base_uri": "https://localhost:8080/",
          "height": 34
        },
        "outputId": "1584bd79-3367-4a36-ded9-4d1514e60850"
      },
      "source": [
        "X_train1.dtype, X_test1.dtype\n"
      ],
      "execution_count": 16,
      "outputs": [
        {
          "output_type": "execute_result",
          "data": {
            "text/plain": [
              "(dtype('float64'), dtype('float64'))"
            ]
          },
          "metadata": {
            "tags": []
          },
          "execution_count": 16
        }
      ]
    },
    {
      "cell_type": "code",
      "metadata": {
        "id": "q4NEO3dFJBzp",
        "colab_type": "code",
        "colab": {
          "base_uri": "https://localhost:8080/",
          "height": 34
        },
        "outputId": "4dca9798-fb8f-451a-a9a0-fb39f71761e2"
      },
      "source": [
        "X_train32 = X_train1.astype('float32')\n",
        "X_test32 = X_test1.astype('float32')\n",
        "X_train32.dtype, X_test32.dtype"
      ],
      "execution_count": 17,
      "outputs": [
        {
          "output_type": "execute_result",
          "data": {
            "text/plain": [
              "(dtype('float32'), dtype('float32'))"
            ]
          },
          "metadata": {
            "tags": []
          },
          "execution_count": 17
        }
      ]
    },
    {
      "cell_type": "code",
      "metadata": {
        "id": "fGldF-lGJILS",
        "colab_type": "code",
        "colab": {}
      },
      "source": [
        "import tensorflow as tf\n",
        "from tensorflow import keras\n",
        "from keras.layers import Conv2D, Flatten, Dense, Activation, Dropout, MaxPooling2D, BatchNormalization\n",
        "\n",
        "from tensorflow.keras.models import Sequential\n",
        "from tensorflow.keras.layers import Dense, Conv2D, Flatten, Dropout, MaxPooling2D, Activation, BatchNormalization"
      ],
      "execution_count": 18,
      "outputs": []
    },
    {
      "cell_type": "code",
      "metadata": {
        "id": "Tesr12MyJT1w",
        "colab_type": "code",
        "colab": {}
      },
      "source": [
        "model = Sequential()\n",
        "model.add(Conv2D(filters = 64, kernel_size = (5,5), input_shape = (48, 48, 1), padding='same'))\n",
        "model.add(Conv2D(64, kernel_size=(5,5), padding='same'))\n",
        "model.add(BatchNormalization())\n",
        "model.add(MaxPooling2D(pool_size=(2,2)))\n",
        "model.add(Activation('relu'))\n",
        "\n",
        "model.add(Conv2D(filters=128, kernel_size=(5,5), padding='same'))\n",
        "model.add(Conv2D(128, kernel_size=(5,5), padding='same'))\n",
        "model.add(BatchNormalization())\n",
        "model.add(MaxPooling2D(pool_size=(2,2)))\n",
        "model.add(Activation('relu'))\n",
        "\n",
        "model.add(Conv2D(filters=256, kernel_size=(3,3), padding='same'))\n",
        "model.add(Conv2D(256, kernel_size=(3,3), padding='same'))\n",
        "model.add(BatchNormalization())\n",
        "model.add(MaxPooling2D(pool_size=(2,2)))\n",
        "model.add(Activation('relu'))\n",
        "\n",
        "model.add(Flatten())\n",
        "model.add(Dense(128))\n",
        "model.add(BatchNormalization())\n",
        "model.add(Activation('relu'))\n",
        "model.add(Dropout(rate=0.25))\n",
        "model.add(Dense(7, activation='softmax'))\n",
        "\n",
        "model.compile(optimizer='adam', loss='categorical_crossentropy', metrics=['accuracy'])"
      ],
      "execution_count": 19,
      "outputs": []
    },
    {
      "cell_type": "code",
      "metadata": {
        "id": "bWbOG-oYJXaY",
        "colab_type": "code",
        "colab": {
          "base_uri": "https://localhost:8080/",
          "height": 867
        },
        "outputId": "1d2288af-9409-4c8f-8176-7eb717f9715f"
      },
      "source": [
        "model.summary()"
      ],
      "execution_count": 20,
      "outputs": [
        {
          "output_type": "stream",
          "text": [
            "Model: \"sequential\"\n",
            "_________________________________________________________________\n",
            "Layer (type)                 Output Shape              Param #   \n",
            "=================================================================\n",
            "conv2d (Conv2D)              (None, 48, 48, 64)        1664      \n",
            "_________________________________________________________________\n",
            "conv2d_1 (Conv2D)            (None, 48, 48, 64)        102464    \n",
            "_________________________________________________________________\n",
            "batch_normalization (BatchNo (None, 48, 48, 64)        256       \n",
            "_________________________________________________________________\n",
            "max_pooling2d (MaxPooling2D) (None, 24, 24, 64)        0         \n",
            "_________________________________________________________________\n",
            "activation (Activation)      (None, 24, 24, 64)        0         \n",
            "_________________________________________________________________\n",
            "conv2d_2 (Conv2D)            (None, 24, 24, 128)       204928    \n",
            "_________________________________________________________________\n",
            "conv2d_3 (Conv2D)            (None, 24, 24, 128)       409728    \n",
            "_________________________________________________________________\n",
            "batch_normalization_1 (Batch (None, 24, 24, 128)       512       \n",
            "_________________________________________________________________\n",
            "max_pooling2d_1 (MaxPooling2 (None, 12, 12, 128)       0         \n",
            "_________________________________________________________________\n",
            "activation_1 (Activation)    (None, 12, 12, 128)       0         \n",
            "_________________________________________________________________\n",
            "conv2d_4 (Conv2D)            (None, 12, 12, 256)       295168    \n",
            "_________________________________________________________________\n",
            "conv2d_5 (Conv2D)            (None, 12, 12, 256)       590080    \n",
            "_________________________________________________________________\n",
            "batch_normalization_2 (Batch (None, 12, 12, 256)       1024      \n",
            "_________________________________________________________________\n",
            "max_pooling2d_2 (MaxPooling2 (None, 6, 6, 256)         0         \n",
            "_________________________________________________________________\n",
            "activation_2 (Activation)    (None, 6, 6, 256)         0         \n",
            "_________________________________________________________________\n",
            "flatten (Flatten)            (None, 9216)              0         \n",
            "_________________________________________________________________\n",
            "dense (Dense)                (None, 128)               1179776   \n",
            "_________________________________________________________________\n",
            "batch_normalization_3 (Batch (None, 128)               512       \n",
            "_________________________________________________________________\n",
            "activation_3 (Activation)    (None, 128)               0         \n",
            "_________________________________________________________________\n",
            "dropout (Dropout)            (None, 128)               0         \n",
            "_________________________________________________________________\n",
            "dense_1 (Dense)              (None, 7)                 903       \n",
            "=================================================================\n",
            "Total params: 2,787,015\n",
            "Trainable params: 2,785,863\n",
            "Non-trainable params: 1,152\n",
            "_________________________________________________________________\n"
          ],
          "name": "stdout"
        }
      ]
    },
    {
      "cell_type": "code",
      "metadata": {
        "id": "DcqOo3SeJb5j",
        "colab_type": "code",
        "colab": {}
      },
      "source": [
        "from tensorflow.keras.utils import to_categorical\n",
        "n_epochs = 20\n",
        "batch_size = 64\n",
        "lr = 0.0001"
      ],
      "execution_count": 21,
      "outputs": []
    },
    {
      "cell_type": "code",
      "metadata": {
        "id": "IjlY6xhlJfUB",
        "colab_type": "code",
        "colab": {
          "base_uri": "https://localhost:8080/",
          "height": 697
        },
        "outputId": "f6efa559-99da-4ece-a6fd-54b7e467b033"
      },
      "source": [
        "history = model.fit(X_train32, to_categorical(y_train), \n",
        "                    batch_size = batch_size, epochs = n_epochs, validation_data= (X_test32, to_categorical(y_test)))"
      ],
      "execution_count": 22,
      "outputs": [
        {
          "output_type": "stream",
          "text": [
            "Epoch 1/20\n",
            "505/505 [==============================] - 11s 22ms/step - loss: 1.6238 - accuracy: 0.3733 - val_loss: 1.3892 - val_accuracy: 0.4659\n",
            "Epoch 2/20\n",
            "505/505 [==============================] - 11s 21ms/step - loss: 1.2774 - accuracy: 0.5097 - val_loss: 1.3149 - val_accuracy: 0.4990\n",
            "Epoch 3/20\n",
            "505/505 [==============================] - 11s 21ms/step - loss: 1.1480 - accuracy: 0.5670 - val_loss: 1.4703 - val_accuracy: 0.4447\n",
            "Epoch 4/20\n",
            "505/505 [==============================] - 11s 21ms/step - loss: 1.0720 - accuracy: 0.5963 - val_loss: 1.6938 - val_accuracy: 0.4216\n",
            "Epoch 5/20\n",
            "505/505 [==============================] - 11s 21ms/step - loss: 0.9969 - accuracy: 0.6250 - val_loss: 1.3095 - val_accuracy: 0.5060\n",
            "Epoch 6/20\n",
            "505/505 [==============================] - 10s 21ms/step - loss: 0.9285 - accuracy: 0.6543 - val_loss: 1.3619 - val_accuracy: 0.5096\n",
            "Epoch 7/20\n",
            "505/505 [==============================] - 11s 21ms/step - loss: 0.8526 - accuracy: 0.6834 - val_loss: 1.1886 - val_accuracy: 0.5745\n",
            "Epoch 8/20\n",
            "505/505 [==============================] - 11s 21ms/step - loss: 0.7785 - accuracy: 0.7131 - val_loss: 1.1390 - val_accuracy: 0.5862\n",
            "Epoch 9/20\n",
            "505/505 [==============================] - 11s 21ms/step - loss: 0.6873 - accuracy: 0.7464 - val_loss: 1.1994 - val_accuracy: 0.5918\n",
            "Epoch 10/20\n",
            "505/505 [==============================] - 11s 21ms/step - loss: 0.6029 - accuracy: 0.7798 - val_loss: 1.2789 - val_accuracy: 0.5681\n",
            "Epoch 11/20\n",
            "505/505 [==============================] - 10s 21ms/step - loss: 0.5141 - accuracy: 0.8160 - val_loss: 1.3991 - val_accuracy: 0.5673\n",
            "Epoch 12/20\n",
            "505/505 [==============================] - 11s 21ms/step - loss: 0.4398 - accuracy: 0.8409 - val_loss: 1.3871 - val_accuracy: 0.5798\n",
            "Epoch 13/20\n",
            "505/505 [==============================] - 11s 21ms/step - loss: 0.3634 - accuracy: 0.8725 - val_loss: 1.4814 - val_accuracy: 0.5924\n",
            "Epoch 14/20\n",
            "505/505 [==============================] - 10s 21ms/step - loss: 0.3115 - accuracy: 0.8908 - val_loss: 1.5585 - val_accuracy: 0.5745\n",
            "Epoch 15/20\n",
            "505/505 [==============================] - 10s 21ms/step - loss: 0.2610 - accuracy: 0.9095 - val_loss: 1.7348 - val_accuracy: 0.5879\n",
            "Epoch 16/20\n",
            "505/505 [==============================] - 11s 21ms/step - loss: 0.2230 - accuracy: 0.9242 - val_loss: 1.6924 - val_accuracy: 0.6099\n",
            "Epoch 17/20\n",
            "505/505 [==============================] - 11s 21ms/step - loss: 0.1914 - accuracy: 0.9352 - val_loss: 1.7724 - val_accuracy: 0.5921\n",
            "Epoch 18/20\n",
            "505/505 [==============================] - 10s 21ms/step - loss: 0.1794 - accuracy: 0.9388 - val_loss: 1.7623 - val_accuracy: 0.5999\n",
            "Epoch 19/20\n",
            "505/505 [==============================] - 10s 21ms/step - loss: 0.1592 - accuracy: 0.9479 - val_loss: 1.8808 - val_accuracy: 0.5952\n",
            "Epoch 20/20\n",
            "505/505 [==============================] - 10s 21ms/step - loss: 0.1535 - accuracy: 0.9486 - val_loss: 1.9776 - val_accuracy: 0.6066\n"
          ],
          "name": "stdout"
        }
      ]
    },
    {
      "cell_type": "code",
      "metadata": {
        "id": "xWRQfKpTLR3s",
        "colab_type": "code",
        "colab": {
          "base_uri": "https://localhost:8080/",
          "height": 204
        },
        "outputId": "8d879862-a5a6-4383-c9ac-7ca8ab943769"
      },
      "source": [
        "pd.DataFrame(history.history).tail()"
      ],
      "execution_count": 23,
      "outputs": [
        {
          "output_type": "execute_result",
          "data": {
            "text/html": [
              "<div>\n",
              "<style scoped>\n",
              "    .dataframe tbody tr th:only-of-type {\n",
              "        vertical-align: middle;\n",
              "    }\n",
              "\n",
              "    .dataframe tbody tr th {\n",
              "        vertical-align: top;\n",
              "    }\n",
              "\n",
              "    .dataframe thead th {\n",
              "        text-align: right;\n",
              "    }\n",
              "</style>\n",
              "<table border=\"1\" class=\"dataframe\">\n",
              "  <thead>\n",
              "    <tr style=\"text-align: right;\">\n",
              "      <th></th>\n",
              "      <th>loss</th>\n",
              "      <th>accuracy</th>\n",
              "      <th>val_loss</th>\n",
              "      <th>val_accuracy</th>\n",
              "    </tr>\n",
              "  </thead>\n",
              "  <tbody>\n",
              "    <tr>\n",
              "      <th>15</th>\n",
              "      <td>0.222999</td>\n",
              "      <td>0.924175</td>\n",
              "      <td>1.692405</td>\n",
              "      <td>0.609919</td>\n",
              "    </tr>\n",
              "    <tr>\n",
              "      <th>16</th>\n",
              "      <td>0.191433</td>\n",
              "      <td>0.935166</td>\n",
              "      <td>1.772437</td>\n",
              "      <td>0.592087</td>\n",
              "    </tr>\n",
              "    <tr>\n",
              "      <th>17</th>\n",
              "      <td>0.179426</td>\n",
              "      <td>0.938820</td>\n",
              "      <td>1.762318</td>\n",
              "      <td>0.599889</td>\n",
              "    </tr>\n",
              "    <tr>\n",
              "      <th>18</th>\n",
              "      <td>0.159151</td>\n",
              "      <td>0.947861</td>\n",
              "      <td>1.880795</td>\n",
              "      <td>0.595152</td>\n",
              "    </tr>\n",
              "    <tr>\n",
              "      <th>19</th>\n",
              "      <td>0.153520</td>\n",
              "      <td>0.948604</td>\n",
              "      <td>1.977641</td>\n",
              "      <td>0.606576</td>\n",
              "    </tr>\n",
              "  </tbody>\n",
              "</table>\n",
              "</div>"
            ],
            "text/plain": [
              "        loss  accuracy  val_loss  val_accuracy\n",
              "15  0.222999  0.924175  1.692405      0.609919\n",
              "16  0.191433  0.935166  1.772437      0.592087\n",
              "17  0.179426  0.938820  1.762318      0.599889\n",
              "18  0.159151  0.947861  1.880795      0.595152\n",
              "19  0.153520  0.948604  1.977641      0.606576"
            ]
          },
          "metadata": {
            "tags": []
          },
          "execution_count": 23
        }
      ]
    },
    {
      "cell_type": "code",
      "metadata": {
        "id": "X9mouv0yLVHC",
        "colab_type": "code",
        "colab": {}
      },
      "source": [
        "y_pred = model.predict_classes(X_test32)"
      ],
      "execution_count": 30,
      "outputs": []
    },
    {
      "cell_type": "code",
      "metadata": {
        "id": "J7DmleB-Laf5",
        "colab_type": "code",
        "colab": {
          "base_uri": "https://localhost:8080/",
          "height": 136
        },
        "outputId": "2469a334-38a2-47d2-b24c-39c0c6d4fb76"
      },
      "source": [
        "from sklearn.metrics import confusion_matrix\n",
        "\n",
        "cm = confusion_matrix(np.argmax(to_categorical(y_test), axis=1), y_pred)\n",
        "cm"
      ],
      "execution_count": 31,
      "outputs": [
        {
          "output_type": "execute_result",
          "data": {
            "text/plain": [
              "array([[258,   4,  44,  47,  45,  23, 101],\n",
              "       [  7,  27,   0,   4,   7,   3,   4],\n",
              "       [ 73,   3, 224,  46,  51,  40,  88],\n",
              "       [ 24,   0,  17, 732,  16,  15,  63],\n",
              "       [ 85,   3,  81,  61, 237,   8, 138],\n",
              "       [ 12,   0,  36,  27,   5, 293,  26],\n",
              "       [ 39,   2,  25,  75,  49,  15, 406]])"
            ]
          },
          "metadata": {
            "tags": []
          },
          "execution_count": 31
        }
      ]
    },
    {
      "cell_type": "code",
      "metadata": {
        "id": "2mJX4szqLl8q",
        "colab_type": "code",
        "colab": {}
      },
      "source": [
        "model.save('CNN_model.h5')"
      ],
      "execution_count": 32,
      "outputs": []
    },
    {
      "cell_type": "code",
      "metadata": {
        "id": "VMM-hIBAMAsx",
        "colab_type": "code",
        "colab": {
          "base_uri": "https://localhost:8080/",
          "height": 282
        },
        "outputId": "3300d7aa-84ea-4072-b41e-3a907504e6cb"
      },
      "source": [
        "sns.heatmap(cm/np.sum(cm), annot=True, \n",
        "            fmt='.2%', cmap='Blues')"
      ],
      "execution_count": 37,
      "outputs": [
        {
          "output_type": "execute_result",
          "data": {
            "text/plain": [
              "<matplotlib.axes._subplots.AxesSubplot at 0x7fc7f9aabe10>"
            ]
          },
          "metadata": {
            "tags": []
          },
          "execution_count": 37
        },
        {
          "output_type": "display_data",
          "data": {
            "image/png": "[encoded data removed]",
            "text/plain": [
              "<Figure size 432x288 with 2 Axes>"
            ]
          },
          "metadata": {
            "tags": [],
            "needs_background": "light"
          }
        }
      ]
    }
  ]
}